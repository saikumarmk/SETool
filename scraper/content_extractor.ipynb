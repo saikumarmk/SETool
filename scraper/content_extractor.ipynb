{
 "metadata": {
  "language_info": {
   "codemirror_mode": {
    "name": "ipython",
    "version": 3
   },
   "file_extension": ".py",
   "mimetype": "text/x-python",
   "name": "python",
   "nbconvert_exporter": "python",
   "pygments_lexer": "ipython3",
   "version": "3.9.4"
  },
  "orig_nbformat": 4,
  "kernelspec": {
   "name": "python3",
   "display_name": "Python 3.9.4 64-bit"
  },
  "interpreter": {
   "hash": "f93a91e41f87435bcdbc7613695473751096cbe316d6bb58e0cedc408627f2e1"
  }
 },
 "nbformat": 4,
 "nbformat_minor": 2,
 "cells": [
  {
   "cell_type": "code",
   "execution_count": 1,
   "metadata": {},
   "outputs": [],
   "source": [
    "from bs4 import BeautifulSoup\n",
    "import numpy as np\n",
    "import pandas as pd\n",
    "import time"
   ]
  },
  {
   "cell_type": "code",
   "execution_count": 2,
   "metadata": {},
   "outputs": [],
   "source": [
    "with open('example.htm', 'r') as file:\n",
    "    soup = BeautifulSoup(file.read(),'lxml')"
   ]
  },
  {
   "cell_type": "code",
   "execution_count": 3,
   "metadata": {},
   "outputs": [],
   "source": [
    "article = soup.find('article')"
   ]
  },
  {
   "cell_type": "code",
   "execution_count": 18,
   "metadata": {},
   "outputs": [
    {
     "output_type": "execute_result",
     "data": {
      "text/plain": [
       "['13', '3.92', '4.00', '76.92%']"
      ]
     },
     "metadata": {},
     "execution_count": 18
    }
   ],
   "source": [
    "[a.find(\"td\").text for a in article.find_all(\"div\", attrs={\"class\":\"FrequencyBlock_HalfMain\"})[0].find_all(\"table\")[1].tbody.find_all('tr')]"
   ]
  },
  {
   "cell_type": "code",
   "execution_count": 4,
   "metadata": {},
   "outputs": [
    {
     "output_type": "execute_result",
     "data": {
      "text/plain": [
       "['3.92', '4.00']"
      ]
     },
     "metadata": {},
     "execution_count": 4
    }
   ],
   "source": [
    "list(map(lambda x: x.find(\"td\").text,article.find_all(\"div\", attrs={\"class\":\"FrequencyBlock_HalfMain\"})[0].find_all(\"table\")[1].tbody.find_all('tr')[1:3]))"
   ]
  },
  {
   "cell_type": "code",
   "execution_count": 5,
   "metadata": {},
   "outputs": [
    {
     "output_type": "execute_result",
     "data": {
      "text/plain": [
       "['3.92', '4.00']"
      ]
     },
     "metadata": {},
     "execution_count": 5
    }
   ],
   "source": [
    "list(map(lambda x: x.find(\"td\").text,article.find_all(\"div\", attrs={\"class\":\"FrequencyBlock_HalfMain\"})[0].find_all(\"table\")[1].tbody.find_all('tr')[1:3]))"
   ]
  },
  {
   "cell_type": "code",
   "execution_count": 32,
   "metadata": {},
   "outputs": [],
   "source": [
    "def gen_database(filename: str,season: str) -> dict:\n",
    "    ''' \n",
    "    Creates a dictionary of units with their statistics.\n",
    "\n",
    "    :param filename: str filepath to read from.\n",
    "    :param save_filename: str filepath to write to.\n",
    "    :param sem: adds the semester and year in which the unit was done. e.g 2020_S1\n",
    "    :output: dictionary.\n",
    "\n",
    "    '''\n",
    "    \n",
    "    with open(filename, \"r\") as f:\n",
    "        contents = f.read()\n",
    "        soup = BeautifulSoup(contents, \"lxml\")\n",
    "\n",
    "    database = {}\n",
    "\n",
    "    for article in soup.find_all(\"article\"):\n",
    "        # invited number first\n",
    "        base = article.find(\n",
    "            \"div\", attrs={\"class\": \"CrossCategoryBlockRow TableContainer\"}).find(\"tbody\")\n",
    "        \n",
    "        invited = int(\n",
    "            base\n",
    "            .find(\"tr\", attrs={'class': 'CondensedTabularOddRows'})\n",
    "            .find('td')\n",
    "            .text)\n",
    "        \n",
    "        responded = int(\n",
    "            base\n",
    "            .find(\"tr\", attrs={'class': 'CondensedTabularEvenRows'})\n",
    "            .find('td')\n",
    "            .text)\n",
    "\n",
    "        if responded <= 1: continue\n",
    "\n",
    "        entry = {}\n",
    "        entry[\"Responses\"] = responded\n",
    "        entry[\"Invited\"] = invited\n",
    "        entry[\"Season\"] = season\n",
    "\n",
    "        # Full unit code\n",
    "        code = article.find(\"table\").find_all(\"tr\")[3].text\n",
    "\n",
    "        # Filter out MALAYSIA, COMPOSITE, ALFRED, SAFRICA\n",
    "        if any(location in code for location in [\"MALAYSIA\",\"ALFRED\",\"SAFRICA\",\"FLEXIBLE\"]):\n",
    "            continue\n",
    "\n",
    "        entry[\"code\"] = code\n",
    "        entry[\"unit_code\"] = code.split(\"_\")[0]\n",
    "        # Do not display on datatable, used only for queries\n",
    "        try:\n",
    "            entry[\"Level\"] = int(entry[\"unit_code\"][4]) \n",
    "        except ValueError: \n",
    "            entry[\"Level\"] = 0\n",
    "        scores = []\n",
    "        # Response categories, retrieve all tables\n",
    "        for divs in article.find_all(\"div\", attrs={\"class\": \"FrequencyBlock_HalfMain\"}):\n",
    "\n",
    "            score_table = divs.find_all(\"table\")[1].tbody.find_all(\"tr\") # Split by stats and chart\n",
    "\n",
    "            # Extract the means and medians from their td element\n",
    "            mean, median = list(\n",
    "                map(lambda x: x.find(\"td\").text,\n",
    "                    score_table\n",
    "                )\n",
    "            )[1:3]\n",
    "\n",
    "            # Attempt conversion, not sure if this activates...?\n",
    "            try:\n",
    "                mean, median = float(mean), float(median)\n",
    "                scores.append([mean,median])\n",
    "            except ValueError:\n",
    "                print(f\"score could not be converted: {code}, {mean}, {median}\")\n",
    "\n",
    "        entry[\"scores\"] = np.array(scores)\n",
    "        database[code] = entry\n",
    "\n",
    "    return database"
   ]
  },
  {
   "cell_type": "code",
   "execution_count": 33,
   "metadata": {},
   "outputs": [],
   "source": [
    "thing = gen_database('batch_conversion.htm','2020_S1')\n"
   ]
  },
  {
   "cell_type": "code",
   "execution_count": 8,
   "metadata": {},
   "outputs": [],
   "source": [
    "e =pd.DataFrame(thing).T#.drop('scores',axis=1)"
   ]
  },
  {
   "cell_type": "code",
   "execution_count": 9,
   "metadata": {},
   "outputs": [
    {
     "output_type": "execute_result",
     "data": {
      "text/plain": [
       "                                       Responses Invited Semester  \\\n",
       " ACB1020_PENINSULA_ON-CAMPUS_ON_S1-01         41     115       S1   \n",
       " ACB1120_PENINSULA_ON-CAMPUS_ON_S1-01         13      65       S1   \n",
       " ACB2120_PENINSULA_ON-CAMPUS_ON_S1-01          7      22       S1   \n",
       " ACB2220_PENINSULA_ON-CAMPUS_ON_S1-01          6      10       S1   \n",
       " ACC1100_CLAYTON_ON-CAMPUS_ON_S1-01          145     506       S1   \n",
       "\n",
       "                                                                          code  \\\n",
       " ACB1020_PENINSULA_ON-CAMPUS_ON_S1-01    ACB1020_PENINSULA_ON-CAMPUS_ON_S1-01    \n",
       " ACB1120_PENINSULA_ON-CAMPUS_ON_S1-01    ACB1120_PENINSULA_ON-CAMPUS_ON_S1-01    \n",
       " ACB2120_PENINSULA_ON-CAMPUS_ON_S1-01    ACB2120_PENINSULA_ON-CAMPUS_ON_S1-01    \n",
       " ACB2220_PENINSULA_ON-CAMPUS_ON_S1-01    ACB2220_PENINSULA_ON-CAMPUS_ON_S1-01    \n",
       " ACC1100_CLAYTON_ON-CAMPUS_ON_S1-01        ACC1100_CLAYTON_ON-CAMPUS_ON_S1-01    \n",
       "\n",
       "                                       unit_code Level  \\\n",
       " ACB1020_PENINSULA_ON-CAMPUS_ON_S1-01    ACB1020     1   \n",
       " ACB1120_PENINSULA_ON-CAMPUS_ON_S1-01    ACB1120     1   \n",
       " ACB2120_PENINSULA_ON-CAMPUS_ON_S1-01    ACB2120     2   \n",
       " ACB2220_PENINSULA_ON-CAMPUS_ON_S1-01    ACB2220     2   \n",
       " ACC1100_CLAYTON_ON-CAMPUS_ON_S1-01      ACC1100     1   \n",
       "\n",
       "                                                                                   scores  \n",
       " ACB1020_PENINSULA_ON-CAMPUS_ON_S1-01   [[4.12, 4.18], [4.34, 4.33], [3.98, 4.0], [3.8...  \n",
       " ACB1120_PENINSULA_ON-CAMPUS_ON_S1-01   [[3.92, 4.0], [4.08, 4.08], [3.92, 3.94], [3.7...  \n",
       " ACB2120_PENINSULA_ON-CAMPUS_ON_S1-01   [[4.0, 4.63], [4.29, 4.63], [3.86, 4.25], [4.0...  \n",
       " ACB2220_PENINSULA_ON-CAMPUS_ON_S1-01   [[4.5, 4.5], [4.33, 4.5], [4.33, 4.5], [4.17, ...  \n",
       " ACC1100_CLAYTON_ON-CAMPUS_ON_S1-01     [[4.22, 4.27], [4.1, 4.17], [4.19, 4.26], [3.8...  "
      ],
      "text/html": "<div>\n<style scoped>\n    .dataframe tbody tr th:only-of-type {\n        vertical-align: middle;\n    }\n\n    .dataframe tbody tr th {\n        vertical-align: top;\n    }\n\n    .dataframe thead th {\n        text-align: right;\n    }\n</style>\n<table border=\"1\" class=\"dataframe\">\n  <thead>\n    <tr style=\"text-align: right;\">\n      <th></th>\n      <th>Responses</th>\n      <th>Invited</th>\n      <th>Semester</th>\n      <th>code</th>\n      <th>unit_code</th>\n      <th>Level</th>\n      <th>scores</th>\n    </tr>\n  </thead>\n  <tbody>\n    <tr>\n      <th>ACB1020_PENINSULA_ON-CAMPUS_ON_S1-01</th>\n      <td>41</td>\n      <td>115</td>\n      <td>S1</td>\n      <td>ACB1020_PENINSULA_ON-CAMPUS_ON_S1-01</td>\n      <td>ACB1020</td>\n      <td>1</td>\n      <td>[[4.12, 4.18], [4.34, 4.33], [3.98, 4.0], [3.8...</td>\n    </tr>\n    <tr>\n      <th>ACB1120_PENINSULA_ON-CAMPUS_ON_S1-01</th>\n      <td>13</td>\n      <td>65</td>\n      <td>S1</td>\n      <td>ACB1120_PENINSULA_ON-CAMPUS_ON_S1-01</td>\n      <td>ACB1120</td>\n      <td>1</td>\n      <td>[[3.92, 4.0], [4.08, 4.08], [3.92, 3.94], [3.7...</td>\n    </tr>\n    <tr>\n      <th>ACB2120_PENINSULA_ON-CAMPUS_ON_S1-01</th>\n      <td>7</td>\n      <td>22</td>\n      <td>S1</td>\n      <td>ACB2120_PENINSULA_ON-CAMPUS_ON_S1-01</td>\n      <td>ACB2120</td>\n      <td>2</td>\n      <td>[[4.0, 4.63], [4.29, 4.63], [3.86, 4.25], [4.0...</td>\n    </tr>\n    <tr>\n      <th>ACB2220_PENINSULA_ON-CAMPUS_ON_S1-01</th>\n      <td>6</td>\n      <td>10</td>\n      <td>S1</td>\n      <td>ACB2220_PENINSULA_ON-CAMPUS_ON_S1-01</td>\n      <td>ACB2220</td>\n      <td>2</td>\n      <td>[[4.5, 4.5], [4.33, 4.5], [4.33, 4.5], [4.17, ...</td>\n    </tr>\n    <tr>\n      <th>ACC1100_CLAYTON_ON-CAMPUS_ON_S1-01</th>\n      <td>145</td>\n      <td>506</td>\n      <td>S1</td>\n      <td>ACC1100_CLAYTON_ON-CAMPUS_ON_S1-01</td>\n      <td>ACC1100</td>\n      <td>1</td>\n      <td>[[4.22, 4.27], [4.1, 4.17], [4.19, 4.26], [3.8...</td>\n    </tr>\n  </tbody>\n</table>\n</div>"
     },
     "metadata": {},
     "execution_count": 9
    }
   ],
   "source": [
    "e"
   ]
  },
  {
   "cell_type": "code",
   "execution_count": 52,
   "metadata": {},
   "outputs": [],
   "source": [
    "for key in thing:\n",
    "    for i in range(9):\n",
    "        thing[key][f'I{i}'] = thing[key]['scores'][i]"
   ]
  },
  {
   "cell_type": "code",
   "execution_count": 62,
   "metadata": {},
   "outputs": [
    {
     "output_type": "execute_result",
     "data": {
      "text/plain": [
       "                                          I0    I1    I2    I3    I4    I5  \\\n",
       " ACB1020_PENINSULA_ON-CAMPUS_ON_S1-01   4.22  4.10  4.19  3.87  4.06  4.19   \n",
       " ACC1100_CLAYTON_ON-CAMPUS_ON_S1-01     4.27  4.17  4.26  3.96  4.12  4.25   \n",
       "\n",
       "                                          I6    I7    I8  \n",
       " ACB1020_PENINSULA_ON-CAMPUS_ON_S1-01   4.17  4.06  4.19  \n",
       " ACC1100_CLAYTON_ON-CAMPUS_ON_S1-01     4.29  4.14  4.22  "
      ],
      "text/html": "<div>\n<style scoped>\n    .dataframe tbody tr th:only-of-type {\n        vertical-align: middle;\n    }\n\n    .dataframe tbody tr th {\n        vertical-align: top;\n    }\n\n    .dataframe thead th {\n        text-align: right;\n    }\n</style>\n<table border=\"1\" class=\"dataframe\">\n  <thead>\n    <tr style=\"text-align: right;\">\n      <th></th>\n      <th>I0</th>\n      <th>I1</th>\n      <th>I2</th>\n      <th>I3</th>\n      <th>I4</th>\n      <th>I5</th>\n      <th>I6</th>\n      <th>I7</th>\n      <th>I8</th>\n    </tr>\n  </thead>\n  <tbody>\n    <tr>\n      <th>ACB1020_PENINSULA_ON-CAMPUS_ON_S1-01</th>\n      <td>4.22</td>\n      <td>4.10</td>\n      <td>4.19</td>\n      <td>3.87</td>\n      <td>4.06</td>\n      <td>4.19</td>\n      <td>4.17</td>\n      <td>4.06</td>\n      <td>4.19</td>\n    </tr>\n    <tr>\n      <th>ACC1100_CLAYTON_ON-CAMPUS_ON_S1-01</th>\n      <td>4.27</td>\n      <td>4.17</td>\n      <td>4.26</td>\n      <td>3.96</td>\n      <td>4.12</td>\n      <td>4.25</td>\n      <td>4.29</td>\n      <td>4.14</td>\n      <td>4.22</td>\n    </tr>\n  </tbody>\n</table>\n</div>"
     },
     "metadata": {},
     "execution_count": 62
    }
   ],
   "source": [
    "e.loc[e.Responses>20][[f'I{n}' for n in range(9)]].apply(lambda x: x[-1])"
   ]
  },
  {
   "cell_type": "code",
   "execution_count": 63,
   "metadata": {},
   "outputs": [
    {
     "output_type": "execute_result",
     "data": {
      "text/plain": [
       "                                       Responses Invited Semester  \\\n",
       " ACB1020_PENINSULA_ON-CAMPUS_ON_S1-01         41     115       S1   \n",
       " ACB1120_PENINSULA_ON-CAMPUS_ON_S1-01         13      65       S1   \n",
       " ACB2120_PENINSULA_ON-CAMPUS_ON_S1-01          7      22       S1   \n",
       " ACB2220_PENINSULA_ON-CAMPUS_ON_S1-01          6      10       S1   \n",
       " ACC1100_CLAYTON_ON-CAMPUS_ON_S1-01          145     506       S1   \n",
       "\n",
       "                                                                          code  \\\n",
       " ACB1020_PENINSULA_ON-CAMPUS_ON_S1-01    ACB1020_PENINSULA_ON-CAMPUS_ON_S1-01    \n",
       " ACB1120_PENINSULA_ON-CAMPUS_ON_S1-01    ACB1120_PENINSULA_ON-CAMPUS_ON_S1-01    \n",
       " ACB2120_PENINSULA_ON-CAMPUS_ON_S1-01    ACB2120_PENINSULA_ON-CAMPUS_ON_S1-01    \n",
       " ACB2220_PENINSULA_ON-CAMPUS_ON_S1-01    ACB2220_PENINSULA_ON-CAMPUS_ON_S1-01    \n",
       " ACC1100_CLAYTON_ON-CAMPUS_ON_S1-01        ACC1100_CLAYTON_ON-CAMPUS_ON_S1-01    \n",
       "\n",
       "                                       unit_code Level            I0  \\\n",
       " ACB1020_PENINSULA_ON-CAMPUS_ON_S1-01    ACB1020     1  [4.12, 4.18]   \n",
       " ACB1120_PENINSULA_ON-CAMPUS_ON_S1-01    ACB1120     1   [3.92, 4.0]   \n",
       " ACB2120_PENINSULA_ON-CAMPUS_ON_S1-01    ACB2120     2   [4.0, 4.63]   \n",
       " ACB2220_PENINSULA_ON-CAMPUS_ON_S1-01    ACB2220     2    [4.5, 4.5]   \n",
       " ACC1100_CLAYTON_ON-CAMPUS_ON_S1-01      ACC1100     1  [4.22, 4.27]   \n",
       "\n",
       "                                                  I1            I2  \\\n",
       " ACB1020_PENINSULA_ON-CAMPUS_ON_S1-01   [4.34, 4.33]   [3.98, 4.0]   \n",
       " ACB1120_PENINSULA_ON-CAMPUS_ON_S1-01   [4.08, 4.08]  [3.92, 3.94]   \n",
       " ACB2120_PENINSULA_ON-CAMPUS_ON_S1-01   [4.29, 4.63]  [3.86, 4.25]   \n",
       " ACB2220_PENINSULA_ON-CAMPUS_ON_S1-01    [4.33, 4.5]   [4.33, 4.5]   \n",
       " ACC1100_CLAYTON_ON-CAMPUS_ON_S1-01      [4.1, 4.17]  [4.19, 4.26]   \n",
       "\n",
       "                                                  I3            I4  \\\n",
       " ACB1020_PENINSULA_ON-CAMPUS_ON_S1-01   [3.83, 3.93]  [3.85, 3.92]   \n",
       " ACB1120_PENINSULA_ON-CAMPUS_ON_S1-01   [3.77, 3.75]   [3.92, 4.0]   \n",
       " ACB2120_PENINSULA_ON-CAMPUS_ON_S1-01    [4.0, 4.63]   [3.86, 4.0]   \n",
       " ACB2220_PENINSULA_ON-CAMPUS_ON_S1-01    [4.17, 4.5]    [4.0, 4.5]   \n",
       " ACC1100_CLAYTON_ON-CAMPUS_ON_S1-01     [3.87, 3.96]  [4.06, 4.12]   \n",
       "\n",
       "                                                  I5            I6  \\\n",
       " ACB1020_PENINSULA_ON-CAMPUS_ON_S1-01   [3.75, 3.87]   [4.2, 4.18]   \n",
       " ACB1120_PENINSULA_ON-CAMPUS_ON_S1-01   [3.85, 3.89]    [4.0, 4.0]   \n",
       " ACB2120_PENINSULA_ON-CAMPUS_ON_S1-01   [3.71, 4.63]  [4.29, 4.33]   \n",
       " ACB2220_PENINSULA_ON-CAMPUS_ON_S1-01    [4.33, 4.5]    [4.5, 4.5]   \n",
       " ACC1100_CLAYTON_ON-CAMPUS_ON_S1-01     [4.19, 4.25]  [4.17, 4.29]   \n",
       "\n",
       "                                                  I7            I8  \n",
       " ACB1020_PENINSULA_ON-CAMPUS_ON_S1-01    [3.8, 3.97]  [4.03, 4.03]  \n",
       " ACB1120_PENINSULA_ON-CAMPUS_ON_S1-01   [3.77, 3.86]  [4.08, 4.06]  \n",
       " ACB2120_PENINSULA_ON-CAMPUS_ON_S1-01    [3.57, 4.0]   [3.67, 4.5]  \n",
       " ACB2220_PENINSULA_ON-CAMPUS_ON_S1-01    [4.33, 4.5]   [4.25, 4.5]  \n",
       " ACC1100_CLAYTON_ON-CAMPUS_ON_S1-01     [4.06, 4.14]  [4.19, 4.22]  "
      ],
      "text/html": "<div>\n<style scoped>\n    .dataframe tbody tr th:only-of-type {\n        vertical-align: middle;\n    }\n\n    .dataframe tbody tr th {\n        vertical-align: top;\n    }\n\n    .dataframe thead th {\n        text-align: right;\n    }\n</style>\n<table border=\"1\" class=\"dataframe\">\n  <thead>\n    <tr style=\"text-align: right;\">\n      <th></th>\n      <th>Responses</th>\n      <th>Invited</th>\n      <th>Semester</th>\n      <th>code</th>\n      <th>unit_code</th>\n      <th>Level</th>\n      <th>I0</th>\n      <th>I1</th>\n      <th>I2</th>\n      <th>I3</th>\n      <th>I4</th>\n      <th>I5</th>\n      <th>I6</th>\n      <th>I7</th>\n      <th>I8</th>\n    </tr>\n  </thead>\n  <tbody>\n    <tr>\n      <th>ACB1020_PENINSULA_ON-CAMPUS_ON_S1-01</th>\n      <td>41</td>\n      <td>115</td>\n      <td>S1</td>\n      <td>ACB1020_PENINSULA_ON-CAMPUS_ON_S1-01</td>\n      <td>ACB1020</td>\n      <td>1</td>\n      <td>[4.12, 4.18]</td>\n      <td>[4.34, 4.33]</td>\n      <td>[3.98, 4.0]</td>\n      <td>[3.83, 3.93]</td>\n      <td>[3.85, 3.92]</td>\n      <td>[3.75, 3.87]</td>\n      <td>[4.2, 4.18]</td>\n      <td>[3.8, 3.97]</td>\n      <td>[4.03, 4.03]</td>\n    </tr>\n    <tr>\n      <th>ACB1120_PENINSULA_ON-CAMPUS_ON_S1-01</th>\n      <td>13</td>\n      <td>65</td>\n      <td>S1</td>\n      <td>ACB1120_PENINSULA_ON-CAMPUS_ON_S1-01</td>\n      <td>ACB1120</td>\n      <td>1</td>\n      <td>[3.92, 4.0]</td>\n      <td>[4.08, 4.08]</td>\n      <td>[3.92, 3.94]</td>\n      <td>[3.77, 3.75]</td>\n      <td>[3.92, 4.0]</td>\n      <td>[3.85, 3.89]</td>\n      <td>[4.0, 4.0]</td>\n      <td>[3.77, 3.86]</td>\n      <td>[4.08, 4.06]</td>\n    </tr>\n    <tr>\n      <th>ACB2120_PENINSULA_ON-CAMPUS_ON_S1-01</th>\n      <td>7</td>\n      <td>22</td>\n      <td>S1</td>\n      <td>ACB2120_PENINSULA_ON-CAMPUS_ON_S1-01</td>\n      <td>ACB2120</td>\n      <td>2</td>\n      <td>[4.0, 4.63]</td>\n      <td>[4.29, 4.63]</td>\n      <td>[3.86, 4.25]</td>\n      <td>[4.0, 4.63]</td>\n      <td>[3.86, 4.0]</td>\n      <td>[3.71, 4.63]</td>\n      <td>[4.29, 4.33]</td>\n      <td>[3.57, 4.0]</td>\n      <td>[3.67, 4.5]</td>\n    </tr>\n    <tr>\n      <th>ACB2220_PENINSULA_ON-CAMPUS_ON_S1-01</th>\n      <td>6</td>\n      <td>10</td>\n      <td>S1</td>\n      <td>ACB2220_PENINSULA_ON-CAMPUS_ON_S1-01</td>\n      <td>ACB2220</td>\n      <td>2</td>\n      <td>[4.5, 4.5]</td>\n      <td>[4.33, 4.5]</td>\n      <td>[4.33, 4.5]</td>\n      <td>[4.17, 4.5]</td>\n      <td>[4.0, 4.5]</td>\n      <td>[4.33, 4.5]</td>\n      <td>[4.5, 4.5]</td>\n      <td>[4.33, 4.5]</td>\n      <td>[4.25, 4.5]</td>\n    </tr>\n    <tr>\n      <th>ACC1100_CLAYTON_ON-CAMPUS_ON_S1-01</th>\n      <td>145</td>\n      <td>506</td>\n      <td>S1</td>\n      <td>ACC1100_CLAYTON_ON-CAMPUS_ON_S1-01</td>\n      <td>ACC1100</td>\n      <td>1</td>\n      <td>[4.22, 4.27]</td>\n      <td>[4.1, 4.17]</td>\n      <td>[4.19, 4.26]</td>\n      <td>[3.87, 3.96]</td>\n      <td>[4.06, 4.12]</td>\n      <td>[4.19, 4.25]</td>\n      <td>[4.17, 4.29]</td>\n      <td>[4.06, 4.14]</td>\n      <td>[4.19, 4.22]</td>\n    </tr>\n  </tbody>\n</table>\n</div>"
     },
     "metadata": {},
     "execution_count": 63
    }
   ],
   "source": [
    "e['agg_score'] = [sum(map(lambda x:x[a], e[[f'I']]  ))]"
   ]
  },
  {
   "cell_type": "code",
   "execution_count": 15,
   "metadata": {},
   "outputs": [
    {
     "output_type": "execute_result",
     "data": {
      "text/plain": [
       " ACB1020_PENINSULA_ON-CAMPUS_ON_S1-01      [4.001538461538462, 4.053076923076923]\n",
       " ACB1120_PENINSULA_ON-CAMPUS_ON_S1-01     [3.946923076923077, 3.9676923076923076]\n",
       " ACB2120_PENINSULA_ON-CAMPUS_ON_S1-01     [3.9315384615384614, 4.470769230769232]\n",
       " ACB2220_PENINSULA_ON-CAMPUS_ON_S1-01                    [4.341538461538462, 4.5]\n",
       " ACC1100_CLAYTON_ON-CAMPUS_ON_S1-01        [4.111538461538462, 4.185384615384615]\n",
       "Name: scores, dtype: object"
      ]
     },
     "metadata": {},
     "execution_count": 15
    }
   ],
   "source": [
    "e['scores'].apply(lambda x:[sum(a[i] for a in x)/len(x) for i in range(2)])"
   ]
  },
  {
   "cell_type": "code",
   "execution_count": 39,
   "metadata": {},
   "outputs": [],
   "source": [
    "def to_dataframe(db:dict) -> pd.DataFrame:\n",
    "    '''\n",
    "    Converts the input dict to a dataframe. \n",
    "\n",
    "    :param db: Dictionary of unit statistics.\n",
    "    :output: Dataframe of all units with their statistics.\n",
    "\n",
    "    '''\n",
    "    for unit_name in db:\n",
    "        for item_index in range(len(db[unit_name]['scores'])):\n",
    "            db[unit_name][f'I{item_index+1}'] = db[unit_name][\"scores\"][item_index]\n",
    "    df = pd.DataFrame(db).T\n",
    "\n",
    "    df[\"unit_code\"] = df[\"unit_code\"].apply(lambda x: x[1:])\n",
    "    df['agg_score'] = df['scores'].apply(\n",
    "        lambda entry: [sum(item[measure] for item in entry)/len(entry) for measure in range(2)]\n",
    "    ) # Determine mean of all items over mean and median\n",
    "    df = df.drop([\"scores\", ], axis=1)\n",
    "    df[\"school\"] = df[\"unit_code\"].str[0:3]\n",
    "    df[\"Response Rate\"] = df['Responses']/df['Invited']*100\n",
    "\n",
    "    df = df.reindex(columns=[\"code\", \"unit_code\", \"school\", \"Level\", \"Season\"]+[\n",
    "                    f'I{i}' for i in range(1, 14)]+[\"agg_score\", \"Invited\", \"Responses\", \"Response Rate\"])\n",
    "    return df"
   ]
  },
  {
   "cell_type": "code",
   "execution_count": 40,
   "metadata": {},
   "outputs": [
    {
     "output_type": "execute_result",
     "data": {
      "text/plain": [
       "                                                                          code  \\\n",
       " ACB1020_PENINSULA_ON-CAMPUS_ON_S1-01    ACB1020_PENINSULA_ON-CAMPUS_ON_S1-01    \n",
       " ACB1120_PENINSULA_ON-CAMPUS_ON_S1-01    ACB1120_PENINSULA_ON-CAMPUS_ON_S1-01    \n",
       " ACB2120_PENINSULA_ON-CAMPUS_ON_S1-01    ACB2120_PENINSULA_ON-CAMPUS_ON_S1-01    \n",
       " ACB2220_PENINSULA_ON-CAMPUS_ON_S1-01    ACB2220_PENINSULA_ON-CAMPUS_ON_S1-01    \n",
       " ACC1100_CLAYTON_ON-CAMPUS_ON_S1-01        ACC1100_CLAYTON_ON-CAMPUS_ON_S1-01    \n",
       "\n",
       "                                       unit_code school Level   Season  \\\n",
       " ACB1020_PENINSULA_ON-CAMPUS_ON_S1-01    ACB1020    ACB     1  2020_S1   \n",
       " ACB1120_PENINSULA_ON-CAMPUS_ON_S1-01    ACB1120    ACB     1  2020_S1   \n",
       " ACB2120_PENINSULA_ON-CAMPUS_ON_S1-01    ACB2120    ACB     2  2020_S1   \n",
       " ACB2220_PENINSULA_ON-CAMPUS_ON_S1-01    ACB2220    ACB     2  2020_S1   \n",
       " ACC1100_CLAYTON_ON-CAMPUS_ON_S1-01      ACC1100    ACC     1  2020_S1   \n",
       "\n",
       "                                                  I1            I2  \\\n",
       " ACB1020_PENINSULA_ON-CAMPUS_ON_S1-01   [4.12, 4.18]  [4.34, 4.33]   \n",
       " ACB1120_PENINSULA_ON-CAMPUS_ON_S1-01    [3.92, 4.0]  [4.08, 4.08]   \n",
       " ACB2120_PENINSULA_ON-CAMPUS_ON_S1-01    [4.0, 4.63]  [4.29, 4.63]   \n",
       " ACB2220_PENINSULA_ON-CAMPUS_ON_S1-01     [4.5, 4.5]   [4.33, 4.5]   \n",
       " ACC1100_CLAYTON_ON-CAMPUS_ON_S1-01     [4.22, 4.27]   [4.1, 4.17]   \n",
       "\n",
       "                                                  I3            I4  \\\n",
       " ACB1020_PENINSULA_ON-CAMPUS_ON_S1-01    [3.98, 4.0]  [3.83, 3.93]   \n",
       " ACB1120_PENINSULA_ON-CAMPUS_ON_S1-01   [3.92, 3.94]  [3.77, 3.75]   \n",
       " ACB2120_PENINSULA_ON-CAMPUS_ON_S1-01   [3.86, 4.25]   [4.0, 4.63]   \n",
       " ACB2220_PENINSULA_ON-CAMPUS_ON_S1-01    [4.33, 4.5]   [4.17, 4.5]   \n",
       " ACC1100_CLAYTON_ON-CAMPUS_ON_S1-01     [4.19, 4.26]  [3.87, 3.96]   \n",
       "\n",
       "                                                  I5  ...            I8  \\\n",
       " ACB1020_PENINSULA_ON-CAMPUS_ON_S1-01   [3.85, 3.92]  ...   [3.8, 3.97]   \n",
       " ACB1120_PENINSULA_ON-CAMPUS_ON_S1-01    [3.92, 4.0]  ...  [3.77, 3.86]   \n",
       " ACB2120_PENINSULA_ON-CAMPUS_ON_S1-01    [3.86, 4.0]  ...   [3.57, 4.0]   \n",
       " ACB2220_PENINSULA_ON-CAMPUS_ON_S1-01     [4.0, 4.5]  ...   [4.33, 4.5]   \n",
       " ACC1100_CLAYTON_ON-CAMPUS_ON_S1-01     [4.06, 4.12]  ...  [4.06, 4.14]   \n",
       "\n",
       "                                                  I9           I10  \\\n",
       " ACB1020_PENINSULA_ON-CAMPUS_ON_S1-01   [4.03, 4.03]  [4.05, 4.05]   \n",
       " ACB1120_PENINSULA_ON-CAMPUS_ON_S1-01   [4.08, 4.06]    [4.0, 4.0]   \n",
       " ACB2120_PENINSULA_ON-CAMPUS_ON_S1-01    [3.67, 4.5]  [4.14, 4.63]   \n",
       " ACB2220_PENINSULA_ON-CAMPUS_ON_S1-01    [4.25, 4.5]  [4.67, 4.75]   \n",
       " ACC1100_CLAYTON_ON-CAMPUS_ON_S1-01     [4.19, 4.22]  [4.35, 4.39]   \n",
       "\n",
       "                                                 I11           I12  \\\n",
       " ACB1020_PENINSULA_ON-CAMPUS_ON_S1-01    [4.0, 4.09]  [4.22, 4.25]   \n",
       " ACB1120_PENINSULA_ON-CAMPUS_ON_S1-01   [4.08, 4.06]  [3.92, 3.94]   \n",
       " ACB2120_PENINSULA_ON-CAMPUS_ON_S1-01    [4.0, 4.63]  [3.86, 4.63]   \n",
       " ACB2220_PENINSULA_ON-CAMPUS_ON_S1-01    [4.2, 4.25]    [4.5, 4.5]   \n",
       " ACC1100_CLAYTON_ON-CAMPUS_ON_S1-01     [4.13, 4.21]  [4.03, 4.16]   \n",
       "\n",
       "                                                 I13  \\\n",
       " ACB1020_PENINSULA_ON-CAMPUS_ON_S1-01   [3.85, 3.89]   \n",
       " ACB1120_PENINSULA_ON-CAMPUS_ON_S1-01     [4.0, 4.0]   \n",
       " ACB2120_PENINSULA_ON-CAMPUS_ON_S1-01   [3.86, 4.63]   \n",
       " ACB2220_PENINSULA_ON-CAMPUS_ON_S1-01    [4.33, 4.5]   \n",
       " ACC1100_CLAYTON_ON-CAMPUS_ON_S1-01     [3.89, 3.97]   \n",
       "\n",
       "                                                                      agg_score  \\\n",
       " ACB1020_PENINSULA_ON-CAMPUS_ON_S1-01    [4.001538461538462, 4.053076923076923]   \n",
       " ACB1120_PENINSULA_ON-CAMPUS_ON_S1-01   [3.946923076923077, 3.9676923076923076]   \n",
       " ACB2120_PENINSULA_ON-CAMPUS_ON_S1-01   [3.9315384615384614, 4.470769230769232]   \n",
       " ACB2220_PENINSULA_ON-CAMPUS_ON_S1-01                  [4.341538461538462, 4.5]   \n",
       " ACC1100_CLAYTON_ON-CAMPUS_ON_S1-01      [4.111538461538462, 4.185384615384615]   \n",
       "\n",
       "                                       Invited Responses Response Rate  \n",
       " ACB1020_PENINSULA_ON-CAMPUS_ON_S1-01      115        41     35.652174  \n",
       " ACB1120_PENINSULA_ON-CAMPUS_ON_S1-01       65        13          20.0  \n",
       " ACB2120_PENINSULA_ON-CAMPUS_ON_S1-01       22         7     31.818182  \n",
       " ACB2220_PENINSULA_ON-CAMPUS_ON_S1-01       10         6          60.0  \n",
       " ACC1100_CLAYTON_ON-CAMPUS_ON_S1-01        506       145     28.656126  \n",
       "\n",
       "[5 rows x 22 columns]"
      ],
      "text/html": "<div>\n<style scoped>\n    .dataframe tbody tr th:only-of-type {\n        vertical-align: middle;\n    }\n\n    .dataframe tbody tr th {\n        vertical-align: top;\n    }\n\n    .dataframe thead th {\n        text-align: right;\n    }\n</style>\n<table border=\"1\" class=\"dataframe\">\n  <thead>\n    <tr style=\"text-align: right;\">\n      <th></th>\n      <th>code</th>\n      <th>unit_code</th>\n      <th>school</th>\n      <th>Level</th>\n      <th>Season</th>\n      <th>I1</th>\n      <th>I2</th>\n      <th>I3</th>\n      <th>I4</th>\n      <th>I5</th>\n      <th>...</th>\n      <th>I8</th>\n      <th>I9</th>\n      <th>I10</th>\n      <th>I11</th>\n      <th>I12</th>\n      <th>I13</th>\n      <th>agg_score</th>\n      <th>Invited</th>\n      <th>Responses</th>\n      <th>Response Rate</th>\n    </tr>\n  </thead>\n  <tbody>\n    <tr>\n      <th>ACB1020_PENINSULA_ON-CAMPUS_ON_S1-01</th>\n      <td>ACB1020_PENINSULA_ON-CAMPUS_ON_S1-01</td>\n      <td>ACB1020</td>\n      <td>ACB</td>\n      <td>1</td>\n      <td>2020_S1</td>\n      <td>[4.12, 4.18]</td>\n      <td>[4.34, 4.33]</td>\n      <td>[3.98, 4.0]</td>\n      <td>[3.83, 3.93]</td>\n      <td>[3.85, 3.92]</td>\n      <td>...</td>\n      <td>[3.8, 3.97]</td>\n      <td>[4.03, 4.03]</td>\n      <td>[4.05, 4.05]</td>\n      <td>[4.0, 4.09]</td>\n      <td>[4.22, 4.25]</td>\n      <td>[3.85, 3.89]</td>\n      <td>[4.001538461538462, 4.053076923076923]</td>\n      <td>115</td>\n      <td>41</td>\n      <td>35.652174</td>\n    </tr>\n    <tr>\n      <th>ACB1120_PENINSULA_ON-CAMPUS_ON_S1-01</th>\n      <td>ACB1120_PENINSULA_ON-CAMPUS_ON_S1-01</td>\n      <td>ACB1120</td>\n      <td>ACB</td>\n      <td>1</td>\n      <td>2020_S1</td>\n      <td>[3.92, 4.0]</td>\n      <td>[4.08, 4.08]</td>\n      <td>[3.92, 3.94]</td>\n      <td>[3.77, 3.75]</td>\n      <td>[3.92, 4.0]</td>\n      <td>...</td>\n      <td>[3.77, 3.86]</td>\n      <td>[4.08, 4.06]</td>\n      <td>[4.0, 4.0]</td>\n      <td>[4.08, 4.06]</td>\n      <td>[3.92, 3.94]</td>\n      <td>[4.0, 4.0]</td>\n      <td>[3.946923076923077, 3.9676923076923076]</td>\n      <td>65</td>\n      <td>13</td>\n      <td>20.0</td>\n    </tr>\n    <tr>\n      <th>ACB2120_PENINSULA_ON-CAMPUS_ON_S1-01</th>\n      <td>ACB2120_PENINSULA_ON-CAMPUS_ON_S1-01</td>\n      <td>ACB2120</td>\n      <td>ACB</td>\n      <td>2</td>\n      <td>2020_S1</td>\n      <td>[4.0, 4.63]</td>\n      <td>[4.29, 4.63]</td>\n      <td>[3.86, 4.25]</td>\n      <td>[4.0, 4.63]</td>\n      <td>[3.86, 4.0]</td>\n      <td>...</td>\n      <td>[3.57, 4.0]</td>\n      <td>[3.67, 4.5]</td>\n      <td>[4.14, 4.63]</td>\n      <td>[4.0, 4.63]</td>\n      <td>[3.86, 4.63]</td>\n      <td>[3.86, 4.63]</td>\n      <td>[3.9315384615384614, 4.470769230769232]</td>\n      <td>22</td>\n      <td>7</td>\n      <td>31.818182</td>\n    </tr>\n    <tr>\n      <th>ACB2220_PENINSULA_ON-CAMPUS_ON_S1-01</th>\n      <td>ACB2220_PENINSULA_ON-CAMPUS_ON_S1-01</td>\n      <td>ACB2220</td>\n      <td>ACB</td>\n      <td>2</td>\n      <td>2020_S1</td>\n      <td>[4.5, 4.5]</td>\n      <td>[4.33, 4.5]</td>\n      <td>[4.33, 4.5]</td>\n      <td>[4.17, 4.5]</td>\n      <td>[4.0, 4.5]</td>\n      <td>...</td>\n      <td>[4.33, 4.5]</td>\n      <td>[4.25, 4.5]</td>\n      <td>[4.67, 4.75]</td>\n      <td>[4.2, 4.25]</td>\n      <td>[4.5, 4.5]</td>\n      <td>[4.33, 4.5]</td>\n      <td>[4.341538461538462, 4.5]</td>\n      <td>10</td>\n      <td>6</td>\n      <td>60.0</td>\n    </tr>\n    <tr>\n      <th>ACC1100_CLAYTON_ON-CAMPUS_ON_S1-01</th>\n      <td>ACC1100_CLAYTON_ON-CAMPUS_ON_S1-01</td>\n      <td>ACC1100</td>\n      <td>ACC</td>\n      <td>1</td>\n      <td>2020_S1</td>\n      <td>[4.22, 4.27]</td>\n      <td>[4.1, 4.17]</td>\n      <td>[4.19, 4.26]</td>\n      <td>[3.87, 3.96]</td>\n      <td>[4.06, 4.12]</td>\n      <td>...</td>\n      <td>[4.06, 4.14]</td>\n      <td>[4.19, 4.22]</td>\n      <td>[4.35, 4.39]</td>\n      <td>[4.13, 4.21]</td>\n      <td>[4.03, 4.16]</td>\n      <td>[3.89, 3.97]</td>\n      <td>[4.111538461538462, 4.185384615384615]</td>\n      <td>506</td>\n      <td>145</td>\n      <td>28.656126</td>\n    </tr>\n  </tbody>\n</table>\n<p>5 rows × 22 columns</p>\n</div>"
     },
     "metadata": {},
     "execution_count": 40
    }
   ],
   "source": [
    "to_dataframe(thing)"
   ]
  },
  {
   "cell_type": "code",
   "execution_count": 26,
   "metadata": {},
   "outputs": [
    {
     "output_type": "execute_result",
     "data": {
      "text/plain": [
       "array([4.12, 4.18])"
      ]
     },
     "metadata": {},
     "execution_count": 26
    }
   ],
   "source": [
    "thing[' ACB1020_PENINSULA_ON-CAMPUS_ON_S1-01 ']['scores'][0]"
   ]
  },
  {
   "cell_type": "code",
   "execution_count": null,
   "metadata": {},
   "outputs": [],
   "source": []
  }
 ]
}