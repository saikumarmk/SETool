{
 "metadata": {
  "language_info": {
   "codemirror_mode": {
    "name": "ipython",
    "version": 3
   },
   "file_extension": ".py",
   "mimetype": "text/x-python",
   "name": "python",
   "nbconvert_exporter": "python",
   "pygments_lexer": "ipython3",
   "version": "3.9.4"
  },
  "orig_nbformat": 4,
  "kernelspec": {
   "name": "python3",
   "display_name": "Python 3.9.4 64-bit"
  },
  "interpreter": {
   "hash": "f93a91e41f87435bcdbc7613695473751096cbe316d6bb58e0cedc408627f2e1"
  }
 },
 "nbformat": 4,
 "nbformat_minor": 2,
 "cells": [
  {
   "cell_type": "code",
   "execution_count": 1,
   "metadata": {},
   "outputs": [],
   "source": [
    "from bs4 import BeautifulSoup\n",
    "import numpy as np\n",
    "import pandas as pd\n",
    "import time\n",
    "import pickle"
   ]
  },
  {
   "cell_type": "code",
   "execution_count": 3,
   "metadata": {},
   "outputs": [],
   "source": [
    "with open('example.htm', 'r') as file:\n",
    "    soup = BeautifulSoup(file.read(),'lxml')"
   ]
  },
  {
   "cell_type": "code",
   "execution_count": 54,
   "metadata": {},
   "outputs": [],
   "source": [
    "def gen_database(filename: str,season: str) -> dict:\n",
    "    ''' \n",
    "    Creates a dictionary of units with their statistics.\n",
    "\n",
    "    :param filename: str filepath to read from.\n",
    "    :param save_filename: str filepath to write to.\n",
    "    :param sem: adds the semester and year in which the unit was done. e.g 2020_S1\n",
    "    :output: dictionary.\n",
    "\n",
    "    '''\n",
    "    \n",
    "    with open(filename, \"r\") as f:\n",
    "        contents = f.read()\n",
    "        soup = BeautifulSoup(contents, \"lxml\")\n",
    "\n",
    "    database = {}\n",
    "\n",
    "    for article in soup.find_all(\"article\"):\n",
    "        # invited number first\n",
    "        base = article.find(\n",
    "            \"div\", attrs={\"class\": \"CrossCategoryBlockRow TableContainer\"}).find(\"tbody\")\n",
    "        \n",
    "        invited = int(\n",
    "            base\n",
    "            .find(\"tr\", attrs={'class': 'CondensedTabularOddRows'})\n",
    "            .find('td')\n",
    "            .text)\n",
    "        \n",
    "        responded = int(\n",
    "            base\n",
    "            .find(\"tr\", attrs={'class': 'CondensedTabularEvenRows'})\n",
    "            .find('td')\n",
    "            .text)\n",
    "\n",
    "        if responded <= 1: continue\n",
    "\n",
    "        entry = {}\n",
    "        entry[\"Responses\"] = responded\n",
    "        entry[\"Invited\"] = invited\n",
    "        entry[\"Season\"] = season\n",
    "        entry['Response Rate'] = responded/invited*100\n",
    "\n",
    "        # Full unit code\n",
    "        code = article.find(\"table\").find_all(\"tr\")[3].text\n",
    "\n",
    "        # Filter out MALAYSIA, COMPOSITE, ALFRED, SAFRICA\n",
    "        if any(location in code for location in [\"MALAYSIA\",\"ALFRED\",\"SAFRICA\",\"FLEXIBLE\"]):\n",
    "            continue\n",
    "\n",
    "        entry[\"code\"] = code\n",
    "        entry[\"unit_code\"] = code.split(\"_\")[0][1:]\n",
    "        # Do not display on datatable, used only for queries\n",
    "        try:\n",
    "            entry[\"Level\"] = int(entry[\"unit_code\"][3]) \n",
    "        except ValueError: \n",
    "            entry[\"Level\"] = 0\n",
    "        scores = []\n",
    "        # Response categories, retrieve all tables\n",
    "        for item_num,divs in enumerate(\n",
    "            article.find_all(\"div\", attrs={\"class\": \"FrequencyBlock_HalfMain\"})):\n",
    "\n",
    "            score_table = divs.find_all(\"table\")[1].tbody.find_all(\"tr\") # Split by stats and chart\n",
    "\n",
    "            # Extract the means and medians from their td element\n",
    "            mean, median = list(\n",
    "                map(lambda x: x.find(\"td\").text,\n",
    "                    score_table\n",
    "                )\n",
    "            )[1:3]\n",
    "\n",
    "            # Attempt conversion, not sure if this activates...?\n",
    "            try:\n",
    "                mean, median = float(mean), float(median)\n",
    "                entry[f'I{item_num+1}'] = [mean,median]\n",
    "                scores.append([mean,median])\n",
    "            except ValueError:\n",
    "                print(f\"score could not be converted: {code}, {mean}, {median}\")\n",
    "\n",
    "        entry['agg_score'] = [sum(map(\n",
    "            lambda item:item[measure],scores))/len(scores)\n",
    "            for measure in range(2)\n",
    "            ]\n",
    "\n",
    "        database[code] = entry\n",
    "        # Serialize after each point\n",
    "        '''\n",
    "        with open(save_filename, \"wb\") as f:\n",
    "            pickle.dump(database, f, pickle.HIGHEST_PROTOCOL)\n",
    "        '''\n",
    "\n",
    "    return pd.DataFrame(database).T"
   ]
  },
  {
   "cell_type": "code",
   "execution_count": 55,
   "metadata": {},
   "outputs": [],
   "source": [
    "thing = gen_database('batch_conversion.htm','2020_S1')\n"
   ]
  },
  {
   "cell_type": "code",
   "execution_count": 19,
   "metadata": {},
   "outputs": [],
   "source": [
    "with open('test.pkl','wb') as file:\n",
    "    pickle.dump(thing,file,pickle.HIGHEST_PROTOCOL)"
   ]
  },
  {
   "cell_type": "code",
   "execution_count": 20,
   "metadata": {},
   "outputs": [],
   "source": [
    "with open('test.pkl','rb') as file:\n",
    "    db = pickle.load(file)"
   ]
  },
  {
   "cell_type": "code",
   "execution_count": 2,
   "metadata": {},
   "outputs": [],
   "source": [
    "from setu import gen_database"
   ]
  },
  {
   "cell_type": "code",
   "execution_count": 3,
   "metadata": {},
   "outputs": [],
   "source": [
    "setu_2019 = gen_database(\"D://Programming//Python//data_analysis//SETool//conversion//2019_S1_SETU.html\",\"setudb_2019_S1.pkl\",\"2019_S1\")"
   ]
  },
  {
   "cell_type": "code",
   "execution_count": 7,
   "metadata": {},
   "outputs": [
    {
     "output_type": "execute_result",
     "data": {
      "text/plain": [
       "Index(['Responses', 'Invited', 'Season', 'Response Rate', 'code', 'unit_code',\n",
       "       'Level', 'I1', 'I2', 'I3', 'I4', 'I5', 'I6', 'I7', 'I8', 'I9', 'I10',\n",
       "       'I11', 'I12', 'I13', 'agg_score'],\n",
       "      dtype='object')"
      ]
     },
     "metadata": {},
     "execution_count": 7
    }
   ],
   "source": [
    "setu_2019.columns"
   ]
  },
  {
   "cell_type": "code",
   "execution_count": 9,
   "metadata": {},
   "outputs": [
    {
     "output_type": "execute_result",
     "data": {
      "text/plain": [
       "\\nACB1100_PENINSULA_ESP-EC_ON_S1-01\\n       ACB1100\n",
       "\\nACB1100_PENINSULA_ON-CAMPUS_ON_S1-01\\n    ACB1100\n",
       "\\nACB1200_PENINSULA_ON-CAMPUS_ON_S1-01\\n    ACB1200\n",
       "\\nACB2020_PENINSULA_ON-CAMPUS_ON_S1-01\\n    ACB2020\n",
       "\\nACB2491_PENINSULA_ON-CAMPUS_ON_S1-01\\n    ACB2491\n",
       "                                             ...   \n",
       "\\nVCO3206_CAULFIELD_ON-CAMPUS_ON_S1-01\\n    VCO3206\n",
       "\\nVCO3403_CAULFIELD_ON-CAMPUS_ON_S1-01\\n    VCO3403\n",
       "\\nVPR1011_CAULFIELD_ON-CAMPUS_ON_S1-01\\n    VPR1011\n",
       "\\nVPR2011_CAULFIELD_ON-CAMPUS_ON_S1-01\\n    VPR2011\n",
       "\\nVPR3011_CAULFIELD_ON-CAMPUS_ON_S1-01\\n    VPR3011\n",
       "Name: unit_code, Length: 1733, dtype: object"
      ]
     },
     "metadata": {},
     "execution_count": 9
    }
   ],
   "source": [
    "setu_2019['unit_code']"
   ]
  },
  {
   "cell_type": "code",
   "execution_count": 10,
   "metadata": {},
   "outputs": [],
   "source": [
    "with open(\"D://Programming//Python//data_analysis//SETool//assets//setudb_total.pkl\",'rb') as file:\n",
    "    total_db = pickle.load(file)"
   ]
  },
  {
   "cell_type": "code",
   "execution_count": 13,
   "metadata": {},
   "outputs": [],
   "source": [
    "total = pd.concat([total_db,setu_2019]).reset_index(drop=True)"
   ]
  },
  {
   "cell_type": "code",
   "execution_count": 14,
   "metadata": {},
   "outputs": [],
   "source": [
    "with open('setudb_2019S1-2020S1.pkl','wb') as file:\n",
    "    pickle.dump(total, file, pickle.HIGHEST_PROTOCOL)"
   ]
  },
  {
   "cell_type": "code",
   "execution_count": 16,
   "metadata": {},
   "outputs": [
    {
     "output_type": "execute_result",
     "data": {
      "text/plain": [
       "      Responses  Invited   Season  Response Rate  \\\n",
       "3235          5       22  2020_S1      22.727273   \n",
       "6831         10       24  2021_S1      41.666667   \n",
       "8553         11       33  2019_S1      33.333333   \n",
       "\n",
       "                                        code unit_code  Level            I1  \\\n",
       "3235     MTH2140_CLAYTON_ON-CAMPUS_ON_S1-01    MTH2140      2   [4.4, 4.67]   \n",
       "6831     MTH2140_CLAYTON_ON-CAMPUS_ON_S1-01    MTH2140      2    [4.2, 4.5]   \n",
       "8553  \\nMTH2140_CLAYTON_ON-CAMPUS_ON_S1-01\\n   MTH2140      2  [4.64, 4.71]   \n",
       "\n",
       "                I2            I3  ...            I5            I6  \\\n",
       "3235   [4.6, 4.88]   [4.4, 4.33]  ...   [4.2, 4.67]   [4.2, 4.25]   \n",
       "6831   [4.4, 4.33]    [4.3, 4.3]  ...    [4.3, 4.3]   [4.2, 4.25]   \n",
       "8553  [4.55, 4.58]  [4.73, 4.81]  ...  [4.45, 4.58]  [4.45, 4.58]   \n",
       "\n",
       "               I7           I8            I9           I10           I11  \\\n",
       "3235   [3.8, 4.0]   [4.0, 4.0]    [4.0, 4.0]    [4.0, 4.0]    [4.0, 4.0]   \n",
       "6831   [4.3, 4.3]  [4.1, 4.17]    [4.3, 4.5]    [4.1, 4.1]    [4.1, 4.1]   \n",
       "8553  [4.36, 4.4]  [4.36, 4.4]  [4.64, 4.71]  [4.45, 4.58]  [4.55, 4.58]   \n",
       "\n",
       "               I12           I13                                agg_score  \n",
       "3235   [4.2, 4.25]    [4.0, 4.0]   [4.107692307692308, 4.183076923076923]  \n",
       "6831    [3.9, 4.0]   [3.89, 4.0]  [4.168461538461538, 4.2323076923076925]  \n",
       "8553  [4.27, 4.19]  [4.11, 4.13]                [4.47, 4.525384615384615]  \n",
       "\n",
       "[3 rows x 21 columns]"
      ],
      "text/html": "<div>\n<style scoped>\n    .dataframe tbody tr th:only-of-type {\n        vertical-align: middle;\n    }\n\n    .dataframe tbody tr th {\n        vertical-align: top;\n    }\n\n    .dataframe thead th {\n        text-align: right;\n    }\n</style>\n<table border=\"1\" class=\"dataframe\">\n  <thead>\n    <tr style=\"text-align: right;\">\n      <th></th>\n      <th>Responses</th>\n      <th>Invited</th>\n      <th>Season</th>\n      <th>Response Rate</th>\n      <th>code</th>\n      <th>unit_code</th>\n      <th>Level</th>\n      <th>I1</th>\n      <th>I2</th>\n      <th>I3</th>\n      <th>...</th>\n      <th>I5</th>\n      <th>I6</th>\n      <th>I7</th>\n      <th>I8</th>\n      <th>I9</th>\n      <th>I10</th>\n      <th>I11</th>\n      <th>I12</th>\n      <th>I13</th>\n      <th>agg_score</th>\n    </tr>\n  </thead>\n  <tbody>\n    <tr>\n      <th>3235</th>\n      <td>5</td>\n      <td>22</td>\n      <td>2020_S1</td>\n      <td>22.727273</td>\n      <td>MTH2140_CLAYTON_ON-CAMPUS_ON_S1-01</td>\n      <td>MTH2140</td>\n      <td>2</td>\n      <td>[4.4, 4.67]</td>\n      <td>[4.6, 4.88]</td>\n      <td>[4.4, 4.33]</td>\n      <td>...</td>\n      <td>[4.2, 4.67]</td>\n      <td>[4.2, 4.25]</td>\n      <td>[3.8, 4.0]</td>\n      <td>[4.0, 4.0]</td>\n      <td>[4.0, 4.0]</td>\n      <td>[4.0, 4.0]</td>\n      <td>[4.0, 4.0]</td>\n      <td>[4.2, 4.25]</td>\n      <td>[4.0, 4.0]</td>\n      <td>[4.107692307692308, 4.183076923076923]</td>\n    </tr>\n    <tr>\n      <th>6831</th>\n      <td>10</td>\n      <td>24</td>\n      <td>2021_S1</td>\n      <td>41.666667</td>\n      <td>MTH2140_CLAYTON_ON-CAMPUS_ON_S1-01</td>\n      <td>MTH2140</td>\n      <td>2</td>\n      <td>[4.2, 4.5]</td>\n      <td>[4.4, 4.33]</td>\n      <td>[4.3, 4.3]</td>\n      <td>...</td>\n      <td>[4.3, 4.3]</td>\n      <td>[4.2, 4.25]</td>\n      <td>[4.3, 4.3]</td>\n      <td>[4.1, 4.17]</td>\n      <td>[4.3, 4.5]</td>\n      <td>[4.1, 4.1]</td>\n      <td>[4.1, 4.1]</td>\n      <td>[3.9, 4.0]</td>\n      <td>[3.89, 4.0]</td>\n      <td>[4.168461538461538, 4.2323076923076925]</td>\n    </tr>\n    <tr>\n      <th>8553</th>\n      <td>11</td>\n      <td>33</td>\n      <td>2019_S1</td>\n      <td>33.333333</td>\n      <td>\\nMTH2140_CLAYTON_ON-CAMPUS_ON_S1-01\\n</td>\n      <td>MTH2140</td>\n      <td>2</td>\n      <td>[4.64, 4.71]</td>\n      <td>[4.55, 4.58]</td>\n      <td>[4.73, 4.81]</td>\n      <td>...</td>\n      <td>[4.45, 4.58]</td>\n      <td>[4.45, 4.58]</td>\n      <td>[4.36, 4.4]</td>\n      <td>[4.36, 4.4]</td>\n      <td>[4.64, 4.71]</td>\n      <td>[4.45, 4.58]</td>\n      <td>[4.55, 4.58]</td>\n      <td>[4.27, 4.19]</td>\n      <td>[4.11, 4.13]</td>\n      <td>[4.47, 4.525384615384615]</td>\n    </tr>\n  </tbody>\n</table>\n<p>3 rows × 21 columns</p>\n</div>"
     },
     "metadata": {},
     "execution_count": 16
    }
   ],
   "source": [
    "total[total['unit_code']=='MTH2140']"
   ]
  },
  {
   "cell_type": "code",
   "execution_count": 17,
   "metadata": {},
   "outputs": [
    {
     "output_type": "execute_result",
     "data": {
      "text/plain": [
       "(8857, 21)"
      ]
     },
     "metadata": {},
     "execution_count": 17
    }
   ],
   "source": [
    "total.shape"
   ]
  },
  {
   "cell_type": "code",
   "execution_count": null,
   "metadata": {},
   "outputs": [],
   "source": []
  }
 ]
}